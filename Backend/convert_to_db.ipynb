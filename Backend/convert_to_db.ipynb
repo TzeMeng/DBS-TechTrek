{
 "cells": [
  {
   "cell_type": "code",
   "execution_count": 1,
   "metadata": {},
   "outputs": [],
   "source": [
    "import pandas as pd\n",
    "import sqlite3\n",
    "\n",
    "users = pd.read_json('data/user.json')"
   ]
  },
  {
   "cell_type": "code",
   "execution_count": 2,
   "metadata": {},
   "outputs": [
    {
     "data": {
      "text/html": [
       "<div>\n",
       "<style scoped>\n",
       "    .dataframe tbody tr th:only-of-type {\n",
       "        vertical-align: middle;\n",
       "    }\n",
       "\n",
       "    .dataframe tbody tr th {\n",
       "        vertical-align: top;\n",
       "    }\n",
       "\n",
       "    .dataframe thead th {\n",
       "        text-align: right;\n",
       "    }\n",
       "</style>\n",
       "<table border=\"1\" class=\"dataframe\">\n",
       "  <thead>\n",
       "    <tr style=\"text-align: right;\">\n",
       "      <th></th>\n",
       "      <th>id</th>\n",
       "      <th>username</th>\n",
       "      <th>password</th>\n",
       "      <th>name</th>\n",
       "      <th>appointment</th>\n",
       "    </tr>\n",
       "  </thead>\n",
       "  <tbody>\n",
       "    <tr>\n",
       "      <th>0</th>\n",
       "      <td>1</td>\n",
       "      <td>user101</td>\n",
       "      <td>123456</td>\n",
       "      <td>Jacky</td>\n",
       "      <td>Project Lead</td>\n",
       "    </tr>\n",
       "    <tr>\n",
       "      <th>1</th>\n",
       "      <td>2</td>\n",
       "      <td>user102</td>\n",
       "      <td>123456</td>\n",
       "      <td>Jane</td>\n",
       "      <td>Project Manager</td>\n",
       "    </tr>\n",
       "    <tr>\n",
       "      <th>2</th>\n",
       "      <td>3</td>\n",
       "      <td>user103</td>\n",
       "      <td>123456</td>\n",
       "      <td>Tom</td>\n",
       "      <td>Project Manager</td>\n",
       "    </tr>\n",
       "    <tr>\n",
       "      <th>3</th>\n",
       "      <td>4</td>\n",
       "      <td>user104</td>\n",
       "      <td>123456</td>\n",
       "      <td>Helen</td>\n",
       "      <td>Project Manager</td>\n",
       "    </tr>\n",
       "    <tr>\n",
       "      <th>4</th>\n",
       "      <td>5</td>\n",
       "      <td>user105</td>\n",
       "      <td>123456</td>\n",
       "      <td>Mark</td>\n",
       "      <td>Senior Project Manager</td>\n",
       "    </tr>\n",
       "  </tbody>\n",
       "</table>\n",
       "</div>"
      ],
      "text/plain": [
       "   id username  password   name             appointment\n",
       "0   1  user101    123456  Jacky            Project Lead\n",
       "1   2  user102    123456   Jane         Project Manager\n",
       "2   3  user103    123456    Tom         Project Manager\n",
       "3   4  user104    123456  Helen         Project Manager\n",
       "4   5  user105    123456   Mark  Senior Project Manager"
      ]
     },
     "execution_count": 2,
     "metadata": {},
     "output_type": "execute_result"
    }
   ],
   "source": [
    "users"
   ]
  },
  {
   "cell_type": "code",
   "execution_count": 3,
   "metadata": {},
   "outputs": [],
   "source": [
    "conn = sqlite3.connect('user_login')\n",
    "c = conn.cursor()"
   ]
  },
  {
   "cell_type": "code",
   "execution_count": 4,
   "metadata": {},
   "outputs": [],
   "source": [
    "c.execute('CREATE TABLE IF NOT EXISTS users (username text, password)')\n",
    "conn.commit()"
   ]
  },
  {
   "cell_type": "code",
   "execution_count": 5,
   "metadata": {},
   "outputs": [],
   "source": [
    "users.to_sql('users', conn, if_exists='replace', index = False)"
   ]
  }
 ],
 "metadata": {
  "interpreter": {
   "hash": "4afc7db2ae83e408e7940307035506ab90f0819dfeacf7f740c44432017ade5c"
  },
  "kernelspec": {
   "display_name": "Python 3.7.9 64-bit",
   "language": "python",
   "name": "python3"
  },
  "language_info": {
   "codemirror_mode": {
    "name": "ipython",
    "version": 3
   },
   "file_extension": ".py",
   "mimetype": "text/x-python",
   "name": "python",
   "nbconvert_exporter": "python",
   "pygments_lexer": "ipython3",
   "version": "3.8.5"
  },
  "orig_nbformat": 4
 },
 "nbformat": 4,
 "nbformat_minor": 2
}
